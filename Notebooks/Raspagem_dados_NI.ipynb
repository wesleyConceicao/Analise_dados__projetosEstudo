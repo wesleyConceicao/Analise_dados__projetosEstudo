{
 "cells": [
  {
   "cell_type": "code",
   "execution_count": 1,
   "metadata": {},
   "outputs": [],
   "source": [
    "from bs4 import BeautifulSoup\n",
    "from selenium import webdriver\n",
    "from selenium.webdriver.support.ui import WebDriverWait\n",
    "from selenium.webdriver.support import expected_conditions as EC\n",
    "from selenium.webdriver.common.by import By\n",
    "from zipfile import ZipFile\n",
    "import os \n",
    "import requests as re\n",
    "import pandas as pd"
   ]
  },
  {
   "cell_type": "code",
   "execution_count": 2,
   "metadata": {},
   "outputs": [],
   "source": [
    "chrome_options = webdriver.ChromeOptions()\n",
    "chrome_options.add_argument('--headless')\n",
    "chrome_options.add_argument('--no-sandbox')\n",
    "chrome_options.add_argument('--disable-dev-shm-usage')"
   ]
  },
  {
   "cell_type": "code",
   "execution_count": 51,
   "metadata": {},
   "outputs": [
    {
     "name": "stderr",
     "output_type": "stream",
     "text": [
      "<ipython-input-51-bfd793549037>:1: DeprecationWarning: use options instead of chrome_options\n",
      "  navegador_dados_abertos = webdriver.Chrome(chrome_options= chrome_options)\n"
     ]
    },
    {
     "ename": "KeyboardInterrupt",
     "evalue": "",
     "output_type": "error",
     "traceback": [
      "\u001b[1;31m---------------------------------------------------------------------------\u001b[0m",
      "\u001b[1;31mKeyboardInterrupt\u001b[0m                         Traceback (most recent call last)",
      "\u001b[1;32m<ipython-input-51-bfd793549037>\u001b[0m in \u001b[0;36m<module>\u001b[1;34m\u001b[0m\n\u001b[0;32m      1\u001b[0m \u001b[0mnavegador_dados_abertos\u001b[0m \u001b[1;33m=\u001b[0m \u001b[0mwebdriver\u001b[0m\u001b[1;33m.\u001b[0m\u001b[0mChrome\u001b[0m\u001b[1;33m(\u001b[0m\u001b[0mchrome_options\u001b[0m\u001b[1;33m=\u001b[0m \u001b[0mchrome_options\u001b[0m\u001b[1;33m)\u001b[0m\u001b[1;33m\u001b[0m\u001b[1;33m\u001b[0m\u001b[0m\n\u001b[0;32m      2\u001b[0m \u001b[1;33m\u001b[0m\u001b[0m\n\u001b[1;32m----> 3\u001b[1;33m \u001b[0mnavegador_dados_abertos\u001b[0m\u001b[1;33m.\u001b[0m\u001b[0mget\u001b[0m\u001b[1;33m(\u001b[0m\u001b[1;34m'https://dados.gov.br/dataset/anatel-utilidade-publica/resource/3e906fc3-a3cc-4f0a-998a-0af293f81aff'\u001b[0m\u001b[1;33m)\u001b[0m\u001b[1;33m\u001b[0m\u001b[1;33m\u001b[0m\u001b[0m\n\u001b[0m\u001b[0;32m      4\u001b[0m \u001b[1;31m# navegador_dados_abertos.find_element_by_xpath('//*[@id=\"dataset-resources\"]/ul/li[1]/div/a')\u001b[0m\u001b[1;33m\u001b[0m\u001b[1;33m\u001b[0m\u001b[1;33m\u001b[0m\u001b[0m\n\u001b[0;32m      5\u001b[0m \u001b[1;31m# navegador_dados_abertos.find_element_by_xpath('//*[@id=\"content\"]/div[3]/section/div[1]/div[1]/ul/li/a')\u001b[0m\u001b[1;33m\u001b[0m\u001b[1;33m\u001b[0m\u001b[1;33m\u001b[0m\u001b[0m\n",
      "\u001b[1;32m~\\anaconda3\\lib\\site-packages\\selenium\\webdriver\\remote\\webdriver.py\u001b[0m in \u001b[0;36mget\u001b[1;34m(self, url)\u001b[0m\n\u001b[0;32m    440\u001b[0m         \u001b[0mLoads\u001b[0m \u001b[0ma\u001b[0m \u001b[0mweb\u001b[0m \u001b[0mpage\u001b[0m \u001b[1;32min\u001b[0m \u001b[0mthe\u001b[0m \u001b[0mcurrent\u001b[0m \u001b[0mbrowser\u001b[0m \u001b[0msession\u001b[0m\u001b[1;33m.\u001b[0m\u001b[1;33m\u001b[0m\u001b[1;33m\u001b[0m\u001b[0m\n\u001b[0;32m    441\u001b[0m         \"\"\"\n\u001b[1;32m--> 442\u001b[1;33m         \u001b[0mself\u001b[0m\u001b[1;33m.\u001b[0m\u001b[0mexecute\u001b[0m\u001b[1;33m(\u001b[0m\u001b[0mCommand\u001b[0m\u001b[1;33m.\u001b[0m\u001b[0mGET\u001b[0m\u001b[1;33m,\u001b[0m \u001b[1;33m{\u001b[0m\u001b[1;34m'url'\u001b[0m\u001b[1;33m:\u001b[0m \u001b[0murl\u001b[0m\u001b[1;33m}\u001b[0m\u001b[1;33m)\u001b[0m\u001b[1;33m\u001b[0m\u001b[1;33m\u001b[0m\u001b[0m\n\u001b[0m\u001b[0;32m    443\u001b[0m \u001b[1;33m\u001b[0m\u001b[0m\n\u001b[0;32m    444\u001b[0m     \u001b[1;33m@\u001b[0m\u001b[0mproperty\u001b[0m\u001b[1;33m\u001b[0m\u001b[1;33m\u001b[0m\u001b[0m\n",
      "\u001b[1;32m~\\anaconda3\\lib\\site-packages\\selenium\\webdriver\\remote\\webdriver.py\u001b[0m in \u001b[0;36mexecute\u001b[1;34m(self, driver_command, params)\u001b[0m\n\u001b[0;32m    426\u001b[0m \u001b[1;33m\u001b[0m\u001b[0m\n\u001b[0;32m    427\u001b[0m         \u001b[0mparams\u001b[0m \u001b[1;33m=\u001b[0m \u001b[0mself\u001b[0m\u001b[1;33m.\u001b[0m\u001b[0m_wrap_value\u001b[0m\u001b[1;33m(\u001b[0m\u001b[0mparams\u001b[0m\u001b[1;33m)\u001b[0m\u001b[1;33m\u001b[0m\u001b[1;33m\u001b[0m\u001b[0m\n\u001b[1;32m--> 428\u001b[1;33m         \u001b[0mresponse\u001b[0m \u001b[1;33m=\u001b[0m \u001b[0mself\u001b[0m\u001b[1;33m.\u001b[0m\u001b[0mcommand_executor\u001b[0m\u001b[1;33m.\u001b[0m\u001b[0mexecute\u001b[0m\u001b[1;33m(\u001b[0m\u001b[0mdriver_command\u001b[0m\u001b[1;33m,\u001b[0m \u001b[0mparams\u001b[0m\u001b[1;33m)\u001b[0m\u001b[1;33m\u001b[0m\u001b[1;33m\u001b[0m\u001b[0m\n\u001b[0m\u001b[0;32m    429\u001b[0m         \u001b[1;32mif\u001b[0m \u001b[0mresponse\u001b[0m\u001b[1;33m:\u001b[0m\u001b[1;33m\u001b[0m\u001b[1;33m\u001b[0m\u001b[0m\n\u001b[0;32m    430\u001b[0m             \u001b[0mself\u001b[0m\u001b[1;33m.\u001b[0m\u001b[0merror_handler\u001b[0m\u001b[1;33m.\u001b[0m\u001b[0mcheck_response\u001b[0m\u001b[1;33m(\u001b[0m\u001b[0mresponse\u001b[0m\u001b[1;33m)\u001b[0m\u001b[1;33m\u001b[0m\u001b[1;33m\u001b[0m\u001b[0m\n",
      "\u001b[1;32m~\\anaconda3\\lib\\site-packages\\selenium\\webdriver\\remote\\remote_connection.py\u001b[0m in \u001b[0;36mexecute\u001b[1;34m(self, command, params)\u001b[0m\n\u001b[0;32m    345\u001b[0m         \u001b[0mdata\u001b[0m \u001b[1;33m=\u001b[0m \u001b[0mutils\u001b[0m\u001b[1;33m.\u001b[0m\u001b[0mdump_json\u001b[0m\u001b[1;33m(\u001b[0m\u001b[0mparams\u001b[0m\u001b[1;33m)\u001b[0m\u001b[1;33m\u001b[0m\u001b[1;33m\u001b[0m\u001b[0m\n\u001b[0;32m    346\u001b[0m         \u001b[0murl\u001b[0m \u001b[1;33m=\u001b[0m \u001b[1;34mf\"{self._url}{path}\"\u001b[0m\u001b[1;33m\u001b[0m\u001b[1;33m\u001b[0m\u001b[0m\n\u001b[1;32m--> 347\u001b[1;33m         \u001b[1;32mreturn\u001b[0m \u001b[0mself\u001b[0m\u001b[1;33m.\u001b[0m\u001b[0m_request\u001b[0m\u001b[1;33m(\u001b[0m\u001b[0mcommand_info\u001b[0m\u001b[1;33m[\u001b[0m\u001b[1;36m0\u001b[0m\u001b[1;33m]\u001b[0m\u001b[1;33m,\u001b[0m \u001b[0murl\u001b[0m\u001b[1;33m,\u001b[0m \u001b[0mbody\u001b[0m\u001b[1;33m=\u001b[0m\u001b[0mdata\u001b[0m\u001b[1;33m)\u001b[0m\u001b[1;33m\u001b[0m\u001b[1;33m\u001b[0m\u001b[0m\n\u001b[0m\u001b[0;32m    348\u001b[0m \u001b[1;33m\u001b[0m\u001b[0m\n\u001b[0;32m    349\u001b[0m     \u001b[1;32mdef\u001b[0m \u001b[0m_request\u001b[0m\u001b[1;33m(\u001b[0m\u001b[0mself\u001b[0m\u001b[1;33m,\u001b[0m \u001b[0mmethod\u001b[0m\u001b[1;33m,\u001b[0m \u001b[0murl\u001b[0m\u001b[1;33m,\u001b[0m \u001b[0mbody\u001b[0m\u001b[1;33m=\u001b[0m\u001b[1;32mNone\u001b[0m\u001b[1;33m)\u001b[0m\u001b[1;33m:\u001b[0m\u001b[1;33m\u001b[0m\u001b[1;33m\u001b[0m\u001b[0m\n",
      "\u001b[1;32m~\\anaconda3\\lib\\site-packages\\selenium\\webdriver\\remote\\remote_connection.py\u001b[0m in \u001b[0;36m_request\u001b[1;34m(self, method, url, body)\u001b[0m\n\u001b[0;32m    367\u001b[0m \u001b[1;33m\u001b[0m\u001b[0m\n\u001b[0;32m    368\u001b[0m         \u001b[1;32mif\u001b[0m \u001b[0mself\u001b[0m\u001b[1;33m.\u001b[0m\u001b[0mkeep_alive\u001b[0m\u001b[1;33m:\u001b[0m\u001b[1;33m\u001b[0m\u001b[1;33m\u001b[0m\u001b[0m\n\u001b[1;32m--> 369\u001b[1;33m             \u001b[0mresponse\u001b[0m \u001b[1;33m=\u001b[0m \u001b[0mself\u001b[0m\u001b[1;33m.\u001b[0m\u001b[0m_conn\u001b[0m\u001b[1;33m.\u001b[0m\u001b[0mrequest\u001b[0m\u001b[1;33m(\u001b[0m\u001b[0mmethod\u001b[0m\u001b[1;33m,\u001b[0m \u001b[0murl\u001b[0m\u001b[1;33m,\u001b[0m \u001b[0mbody\u001b[0m\u001b[1;33m=\u001b[0m\u001b[0mbody\u001b[0m\u001b[1;33m,\u001b[0m \u001b[0mheaders\u001b[0m\u001b[1;33m=\u001b[0m\u001b[0mheaders\u001b[0m\u001b[1;33m)\u001b[0m\u001b[1;33m\u001b[0m\u001b[1;33m\u001b[0m\u001b[0m\n\u001b[0m\u001b[0;32m    370\u001b[0m             \u001b[0mstatuscode\u001b[0m \u001b[1;33m=\u001b[0m \u001b[0mresponse\u001b[0m\u001b[1;33m.\u001b[0m\u001b[0mstatus\u001b[0m\u001b[1;33m\u001b[0m\u001b[1;33m\u001b[0m\u001b[0m\n\u001b[0;32m    371\u001b[0m         \u001b[1;32melse\u001b[0m\u001b[1;33m:\u001b[0m\u001b[1;33m\u001b[0m\u001b[1;33m\u001b[0m\u001b[0m\n",
      "\u001b[1;32m~\\anaconda3\\lib\\site-packages\\urllib3\\request.py\u001b[0m in \u001b[0;36mrequest\u001b[1;34m(self, method, url, fields, headers, **urlopen_kw)\u001b[0m\n\u001b[0;32m     77\u001b[0m             )\n\u001b[0;32m     78\u001b[0m         \u001b[1;32melse\u001b[0m\u001b[1;33m:\u001b[0m\u001b[1;33m\u001b[0m\u001b[1;33m\u001b[0m\u001b[0m\n\u001b[1;32m---> 79\u001b[1;33m             return self.request_encode_body(\n\u001b[0m\u001b[0;32m     80\u001b[0m                 \u001b[0mmethod\u001b[0m\u001b[1;33m,\u001b[0m \u001b[0murl\u001b[0m\u001b[1;33m,\u001b[0m \u001b[0mfields\u001b[0m\u001b[1;33m=\u001b[0m\u001b[0mfields\u001b[0m\u001b[1;33m,\u001b[0m \u001b[0mheaders\u001b[0m\u001b[1;33m=\u001b[0m\u001b[0mheaders\u001b[0m\u001b[1;33m,\u001b[0m \u001b[1;33m**\u001b[0m\u001b[0murlopen_kw\u001b[0m\u001b[1;33m\u001b[0m\u001b[1;33m\u001b[0m\u001b[0m\n\u001b[0;32m     81\u001b[0m             )\n",
      "\u001b[1;32m~\\anaconda3\\lib\\site-packages\\urllib3\\request.py\u001b[0m in \u001b[0;36mrequest_encode_body\u001b[1;34m(self, method, url, fields, headers, encode_multipart, multipart_boundary, **urlopen_kw)\u001b[0m\n\u001b[0;32m    169\u001b[0m         \u001b[0mextra_kw\u001b[0m\u001b[1;33m.\u001b[0m\u001b[0mupdate\u001b[0m\u001b[1;33m(\u001b[0m\u001b[0murlopen_kw\u001b[0m\u001b[1;33m)\u001b[0m\u001b[1;33m\u001b[0m\u001b[1;33m\u001b[0m\u001b[0m\n\u001b[0;32m    170\u001b[0m \u001b[1;33m\u001b[0m\u001b[0m\n\u001b[1;32m--> 171\u001b[1;33m         \u001b[1;32mreturn\u001b[0m \u001b[0mself\u001b[0m\u001b[1;33m.\u001b[0m\u001b[0murlopen\u001b[0m\u001b[1;33m(\u001b[0m\u001b[0mmethod\u001b[0m\u001b[1;33m,\u001b[0m \u001b[0murl\u001b[0m\u001b[1;33m,\u001b[0m \u001b[1;33m**\u001b[0m\u001b[0mextra_kw\u001b[0m\u001b[1;33m)\u001b[0m\u001b[1;33m\u001b[0m\u001b[1;33m\u001b[0m\u001b[0m\n\u001b[0m",
      "\u001b[1;32m~\\anaconda3\\lib\\site-packages\\urllib3\\poolmanager.py\u001b[0m in \u001b[0;36murlopen\u001b[1;34m(self, method, url, redirect, **kw)\u001b[0m\n\u001b[0;32m    334\u001b[0m             \u001b[0mresponse\u001b[0m \u001b[1;33m=\u001b[0m \u001b[0mconn\u001b[0m\u001b[1;33m.\u001b[0m\u001b[0murlopen\u001b[0m\u001b[1;33m(\u001b[0m\u001b[0mmethod\u001b[0m\u001b[1;33m,\u001b[0m \u001b[0murl\u001b[0m\u001b[1;33m,\u001b[0m \u001b[1;33m**\u001b[0m\u001b[0mkw\u001b[0m\u001b[1;33m)\u001b[0m\u001b[1;33m\u001b[0m\u001b[1;33m\u001b[0m\u001b[0m\n\u001b[0;32m    335\u001b[0m         \u001b[1;32melse\u001b[0m\u001b[1;33m:\u001b[0m\u001b[1;33m\u001b[0m\u001b[1;33m\u001b[0m\u001b[0m\n\u001b[1;32m--> 336\u001b[1;33m             \u001b[0mresponse\u001b[0m \u001b[1;33m=\u001b[0m \u001b[0mconn\u001b[0m\u001b[1;33m.\u001b[0m\u001b[0murlopen\u001b[0m\u001b[1;33m(\u001b[0m\u001b[0mmethod\u001b[0m\u001b[1;33m,\u001b[0m \u001b[0mu\u001b[0m\u001b[1;33m.\u001b[0m\u001b[0mrequest_uri\u001b[0m\u001b[1;33m,\u001b[0m \u001b[1;33m**\u001b[0m\u001b[0mkw\u001b[0m\u001b[1;33m)\u001b[0m\u001b[1;33m\u001b[0m\u001b[1;33m\u001b[0m\u001b[0m\n\u001b[0m\u001b[0;32m    337\u001b[0m \u001b[1;33m\u001b[0m\u001b[0m\n\u001b[0;32m    338\u001b[0m         \u001b[0mredirect_location\u001b[0m \u001b[1;33m=\u001b[0m \u001b[0mredirect\u001b[0m \u001b[1;32mand\u001b[0m \u001b[0mresponse\u001b[0m\u001b[1;33m.\u001b[0m\u001b[0mget_redirect_location\u001b[0m\u001b[1;33m(\u001b[0m\u001b[1;33m)\u001b[0m\u001b[1;33m\u001b[0m\u001b[1;33m\u001b[0m\u001b[0m\n",
      "\u001b[1;32m~\\anaconda3\\lib\\site-packages\\urllib3\\connectionpool.py\u001b[0m in \u001b[0;36murlopen\u001b[1;34m(self, method, url, body, headers, retries, redirect, assert_same_host, timeout, pool_timeout, release_conn, chunked, body_pos, **response_kw)\u001b[0m\n\u001b[0;32m    668\u001b[0m \u001b[1;33m\u001b[0m\u001b[0m\n\u001b[0;32m    669\u001b[0m             \u001b[1;31m# Make the request on the httplib connection object.\u001b[0m\u001b[1;33m\u001b[0m\u001b[1;33m\u001b[0m\u001b[1;33m\u001b[0m\u001b[0m\n\u001b[1;32m--> 670\u001b[1;33m             httplib_response = self._make_request(\n\u001b[0m\u001b[0;32m    671\u001b[0m                 \u001b[0mconn\u001b[0m\u001b[1;33m,\u001b[0m\u001b[1;33m\u001b[0m\u001b[1;33m\u001b[0m\u001b[0m\n\u001b[0;32m    672\u001b[0m                 \u001b[0mmethod\u001b[0m\u001b[1;33m,\u001b[0m\u001b[1;33m\u001b[0m\u001b[1;33m\u001b[0m\u001b[0m\n",
      "\u001b[1;32m~\\anaconda3\\lib\\site-packages\\urllib3\\connectionpool.py\u001b[0m in \u001b[0;36m_make_request\u001b[1;34m(self, conn, method, url, timeout, chunked, **httplib_request_kw)\u001b[0m\n\u001b[0;32m    424\u001b[0m                     \u001b[1;31m# Python 3 (including for exceptions like SystemExit).\u001b[0m\u001b[1;33m\u001b[0m\u001b[1;33m\u001b[0m\u001b[1;33m\u001b[0m\u001b[0m\n\u001b[0;32m    425\u001b[0m                     \u001b[1;31m# Otherwise it looks like a bug in the code.\u001b[0m\u001b[1;33m\u001b[0m\u001b[1;33m\u001b[0m\u001b[1;33m\u001b[0m\u001b[0m\n\u001b[1;32m--> 426\u001b[1;33m                     \u001b[0msix\u001b[0m\u001b[1;33m.\u001b[0m\u001b[0mraise_from\u001b[0m\u001b[1;33m(\u001b[0m\u001b[0me\u001b[0m\u001b[1;33m,\u001b[0m \u001b[1;32mNone\u001b[0m\u001b[1;33m)\u001b[0m\u001b[1;33m\u001b[0m\u001b[1;33m\u001b[0m\u001b[0m\n\u001b[0m\u001b[0;32m    427\u001b[0m         \u001b[1;32mexcept\u001b[0m \u001b[1;33m(\u001b[0m\u001b[0mSocketTimeout\u001b[0m\u001b[1;33m,\u001b[0m \u001b[0mBaseSSLError\u001b[0m\u001b[1;33m,\u001b[0m \u001b[0mSocketError\u001b[0m\u001b[1;33m)\u001b[0m \u001b[1;32mas\u001b[0m \u001b[0me\u001b[0m\u001b[1;33m:\u001b[0m\u001b[1;33m\u001b[0m\u001b[1;33m\u001b[0m\u001b[0m\n\u001b[0;32m    428\u001b[0m             \u001b[0mself\u001b[0m\u001b[1;33m.\u001b[0m\u001b[0m_raise_timeout\u001b[0m\u001b[1;33m(\u001b[0m\u001b[0merr\u001b[0m\u001b[1;33m=\u001b[0m\u001b[0me\u001b[0m\u001b[1;33m,\u001b[0m \u001b[0murl\u001b[0m\u001b[1;33m=\u001b[0m\u001b[0murl\u001b[0m\u001b[1;33m,\u001b[0m \u001b[0mtimeout_value\u001b[0m\u001b[1;33m=\u001b[0m\u001b[0mread_timeout\u001b[0m\u001b[1;33m)\u001b[0m\u001b[1;33m\u001b[0m\u001b[1;33m\u001b[0m\u001b[0m\n",
      "\u001b[1;32m~\\anaconda3\\lib\\site-packages\\urllib3\\packages\\six.py\u001b[0m in \u001b[0;36mraise_from\u001b[1;34m(value, from_value)\u001b[0m\n",
      "\u001b[1;32m~\\anaconda3\\lib\\site-packages\\urllib3\\connectionpool.py\u001b[0m in \u001b[0;36m_make_request\u001b[1;34m(self, conn, method, url, timeout, chunked, **httplib_request_kw)\u001b[0m\n\u001b[0;32m    419\u001b[0m                 \u001b[1;31m# Python 3\u001b[0m\u001b[1;33m\u001b[0m\u001b[1;33m\u001b[0m\u001b[1;33m\u001b[0m\u001b[0m\n\u001b[0;32m    420\u001b[0m                 \u001b[1;32mtry\u001b[0m\u001b[1;33m:\u001b[0m\u001b[1;33m\u001b[0m\u001b[1;33m\u001b[0m\u001b[0m\n\u001b[1;32m--> 421\u001b[1;33m                     \u001b[0mhttplib_response\u001b[0m \u001b[1;33m=\u001b[0m \u001b[0mconn\u001b[0m\u001b[1;33m.\u001b[0m\u001b[0mgetresponse\u001b[0m\u001b[1;33m(\u001b[0m\u001b[1;33m)\u001b[0m\u001b[1;33m\u001b[0m\u001b[1;33m\u001b[0m\u001b[0m\n\u001b[0m\u001b[0;32m    422\u001b[0m                 \u001b[1;32mexcept\u001b[0m \u001b[0mBaseException\u001b[0m \u001b[1;32mas\u001b[0m \u001b[0me\u001b[0m\u001b[1;33m:\u001b[0m\u001b[1;33m\u001b[0m\u001b[1;33m\u001b[0m\u001b[0m\n\u001b[0;32m    423\u001b[0m                     \u001b[1;31m# Remove the TypeError from the exception chain in\u001b[0m\u001b[1;33m\u001b[0m\u001b[1;33m\u001b[0m\u001b[1;33m\u001b[0m\u001b[0m\n",
      "\u001b[1;32m~\\anaconda3\\lib\\http\\client.py\u001b[0m in \u001b[0;36mgetresponse\u001b[1;34m(self)\u001b[0m\n\u001b[0;32m   1345\u001b[0m         \u001b[1;32mtry\u001b[0m\u001b[1;33m:\u001b[0m\u001b[1;33m\u001b[0m\u001b[1;33m\u001b[0m\u001b[0m\n\u001b[0;32m   1346\u001b[0m             \u001b[1;32mtry\u001b[0m\u001b[1;33m:\u001b[0m\u001b[1;33m\u001b[0m\u001b[1;33m\u001b[0m\u001b[0m\n\u001b[1;32m-> 1347\u001b[1;33m                 \u001b[0mresponse\u001b[0m\u001b[1;33m.\u001b[0m\u001b[0mbegin\u001b[0m\u001b[1;33m(\u001b[0m\u001b[1;33m)\u001b[0m\u001b[1;33m\u001b[0m\u001b[1;33m\u001b[0m\u001b[0m\n\u001b[0m\u001b[0;32m   1348\u001b[0m             \u001b[1;32mexcept\u001b[0m \u001b[0mConnectionError\u001b[0m\u001b[1;33m:\u001b[0m\u001b[1;33m\u001b[0m\u001b[1;33m\u001b[0m\u001b[0m\n\u001b[0;32m   1349\u001b[0m                 \u001b[0mself\u001b[0m\u001b[1;33m.\u001b[0m\u001b[0mclose\u001b[0m\u001b[1;33m(\u001b[0m\u001b[1;33m)\u001b[0m\u001b[1;33m\u001b[0m\u001b[1;33m\u001b[0m\u001b[0m\n",
      "\u001b[1;32m~\\anaconda3\\lib\\http\\client.py\u001b[0m in \u001b[0;36mbegin\u001b[1;34m(self)\u001b[0m\n\u001b[0;32m    305\u001b[0m         \u001b[1;31m# read until we get a non-100 response\u001b[0m\u001b[1;33m\u001b[0m\u001b[1;33m\u001b[0m\u001b[1;33m\u001b[0m\u001b[0m\n\u001b[0;32m    306\u001b[0m         \u001b[1;32mwhile\u001b[0m \u001b[1;32mTrue\u001b[0m\u001b[1;33m:\u001b[0m\u001b[1;33m\u001b[0m\u001b[1;33m\u001b[0m\u001b[0m\n\u001b[1;32m--> 307\u001b[1;33m             \u001b[0mversion\u001b[0m\u001b[1;33m,\u001b[0m \u001b[0mstatus\u001b[0m\u001b[1;33m,\u001b[0m \u001b[0mreason\u001b[0m \u001b[1;33m=\u001b[0m \u001b[0mself\u001b[0m\u001b[1;33m.\u001b[0m\u001b[0m_read_status\u001b[0m\u001b[1;33m(\u001b[0m\u001b[1;33m)\u001b[0m\u001b[1;33m\u001b[0m\u001b[1;33m\u001b[0m\u001b[0m\n\u001b[0m\u001b[0;32m    308\u001b[0m             \u001b[1;32mif\u001b[0m \u001b[0mstatus\u001b[0m \u001b[1;33m!=\u001b[0m \u001b[0mCONTINUE\u001b[0m\u001b[1;33m:\u001b[0m\u001b[1;33m\u001b[0m\u001b[1;33m\u001b[0m\u001b[0m\n\u001b[0;32m    309\u001b[0m                 \u001b[1;32mbreak\u001b[0m\u001b[1;33m\u001b[0m\u001b[1;33m\u001b[0m\u001b[0m\n",
      "\u001b[1;32m~\\anaconda3\\lib\\http\\client.py\u001b[0m in \u001b[0;36m_read_status\u001b[1;34m(self)\u001b[0m\n\u001b[0;32m    266\u001b[0m \u001b[1;33m\u001b[0m\u001b[0m\n\u001b[0;32m    267\u001b[0m     \u001b[1;32mdef\u001b[0m \u001b[0m_read_status\u001b[0m\u001b[1;33m(\u001b[0m\u001b[0mself\u001b[0m\u001b[1;33m)\u001b[0m\u001b[1;33m:\u001b[0m\u001b[1;33m\u001b[0m\u001b[1;33m\u001b[0m\u001b[0m\n\u001b[1;32m--> 268\u001b[1;33m         \u001b[0mline\u001b[0m \u001b[1;33m=\u001b[0m \u001b[0mstr\u001b[0m\u001b[1;33m(\u001b[0m\u001b[0mself\u001b[0m\u001b[1;33m.\u001b[0m\u001b[0mfp\u001b[0m\u001b[1;33m.\u001b[0m\u001b[0mreadline\u001b[0m\u001b[1;33m(\u001b[0m\u001b[0m_MAXLINE\u001b[0m \u001b[1;33m+\u001b[0m \u001b[1;36m1\u001b[0m\u001b[1;33m)\u001b[0m\u001b[1;33m,\u001b[0m \u001b[1;34m\"iso-8859-1\"\u001b[0m\u001b[1;33m)\u001b[0m\u001b[1;33m\u001b[0m\u001b[1;33m\u001b[0m\u001b[0m\n\u001b[0m\u001b[0;32m    269\u001b[0m         \u001b[1;32mif\u001b[0m \u001b[0mlen\u001b[0m\u001b[1;33m(\u001b[0m\u001b[0mline\u001b[0m\u001b[1;33m)\u001b[0m \u001b[1;33m>\u001b[0m \u001b[0m_MAXLINE\u001b[0m\u001b[1;33m:\u001b[0m\u001b[1;33m\u001b[0m\u001b[1;33m\u001b[0m\u001b[0m\n\u001b[0;32m    270\u001b[0m             \u001b[1;32mraise\u001b[0m \u001b[0mLineTooLong\u001b[0m\u001b[1;33m(\u001b[0m\u001b[1;34m\"status line\"\u001b[0m\u001b[1;33m)\u001b[0m\u001b[1;33m\u001b[0m\u001b[1;33m\u001b[0m\u001b[0m\n",
      "\u001b[1;32m~\\anaconda3\\lib\\socket.py\u001b[0m in \u001b[0;36mreadinto\u001b[1;34m(self, b)\u001b[0m\n\u001b[0;32m    667\u001b[0m         \u001b[1;32mwhile\u001b[0m \u001b[1;32mTrue\u001b[0m\u001b[1;33m:\u001b[0m\u001b[1;33m\u001b[0m\u001b[1;33m\u001b[0m\u001b[0m\n\u001b[0;32m    668\u001b[0m             \u001b[1;32mtry\u001b[0m\u001b[1;33m:\u001b[0m\u001b[1;33m\u001b[0m\u001b[1;33m\u001b[0m\u001b[0m\n\u001b[1;32m--> 669\u001b[1;33m                 \u001b[1;32mreturn\u001b[0m \u001b[0mself\u001b[0m\u001b[1;33m.\u001b[0m\u001b[0m_sock\u001b[0m\u001b[1;33m.\u001b[0m\u001b[0mrecv_into\u001b[0m\u001b[1;33m(\u001b[0m\u001b[0mb\u001b[0m\u001b[1;33m)\u001b[0m\u001b[1;33m\u001b[0m\u001b[1;33m\u001b[0m\u001b[0m\n\u001b[0m\u001b[0;32m    670\u001b[0m             \u001b[1;32mexcept\u001b[0m \u001b[0mtimeout\u001b[0m\u001b[1;33m:\u001b[0m\u001b[1;33m\u001b[0m\u001b[1;33m\u001b[0m\u001b[0m\n\u001b[0;32m    671\u001b[0m                 \u001b[0mself\u001b[0m\u001b[1;33m.\u001b[0m\u001b[0m_timeout_occurred\u001b[0m \u001b[1;33m=\u001b[0m \u001b[1;32mTrue\u001b[0m\u001b[1;33m\u001b[0m\u001b[1;33m\u001b[0m\u001b[0m\n",
      "\u001b[1;31mKeyboardInterrupt\u001b[0m: "
     ]
    }
   ],
   "source": [
    "navegador_dados_abertos = webdriver.Chrome(chrome_options= chrome_options)\n",
    "\n",
    "navegador_dados_abertos.get('https://dados.gov.br/dataset/anatel-utilidade-publica/resource/3e906fc3-a3cc-4f0a-998a-0af293f81aff')\n",
    "WebDriverWait(navegador_dados_abertos, 20).until(EC.element_to_be_clickable((By.XPATH, '//*[@id=\"content\"]/div[3]/section/div[1]/div[1]/ul/li/a'))).click()\n",
    "WebDriverWait(navegador_dados_abertos, 20).until(EC.element_to_be_clickable((By.XPATH, '//*[@id=\"content\"]/div[3]/section/div[1]/p/a'))).click()\n",
    "# navegador.find_element_by_xpath('').click()"
   ]
  },
  {
   "cell_type": "code",
   "execution_count": 3,
   "metadata": {},
   "outputs": [],
   "source": [
    "pasta = \"C:\\\\Users\\\\wesle\\\\Documents\\\\\"\n",
    "dados = os.path.join(pasta, \"notificacoes_alertas.zip\")\n",
    "\n",
    "with ZipFile(dados) as z:\n",
    "    with z.open(f'notificacoes_alertas_tabela.csv') as f:\n",
    "        dados_alerta = pd.read_csv(f, sep=';', error_bad_lines=False)"
   ]
  },
  {
   "cell_type": "code",
   "execution_count": null,
   "metadata": {},
   "outputs": [],
   "source": [
    "dados_alerta.info()"
   ]
  },
  {
   "cell_type": "code",
   "execution_count": 4,
   "metadata": {},
   "outputs": [],
   "source": [
    "dados_limpos=dados_alerta.drop(columns=['-'])"
   ]
  },
  {
   "cell_type": "code",
   "execution_count": 5,
   "metadata": {},
   "outputs": [],
   "source": [
    "dados_limpos['Data'] = pd.to_datetime(dados_limpos['Data'], errors='coerce')"
   ]
  },
  {
   "cell_type": "code",
   "execution_count": 6,
   "metadata": {},
   "outputs": [],
   "source": [
    "dados_limpos['Data do alerta'] = dados_limpos['Data'].dt.strftime('%d-%m-%Y')\n",
    "dados_limpos['Hora do alerta'] = dados_limpos['Data'].dt.strftime('%H:%M:%S')"
   ]
  },
  {
   "cell_type": "code",
   "execution_count": 7,
   "metadata": {},
   "outputs": [],
   "source": [
    "del dados_limpos['Data']"
   ]
  },
  {
   "cell_type": "code",
   "execution_count": 8,
   "metadata": {},
   "outputs": [],
   "source": [
    "dados_limpos['Data'] = pd.to_datetime(dados_limpos['Data do alerta'], errors='coerce')"
   ]
  },
  {
   "cell_type": "code",
   "execution_count": 12,
   "metadata": {},
   "outputs": [],
   "source": [
    "del dados_limpos['Data do alerta']"
   ]
  },
  {
   "cell_type": "code",
   "execution_count": 13,
   "metadata": {},
   "outputs": [],
   "source": [
    "dados_NI = dados_limpos.loc[(dados_limpos['UF'] == 'RJ') & (dados_limpos[\"Código IBGE\"] == 3303500) & (dados_limpos[\"Data\"] < '2022-01-01')]"
   ]
  },
  {
   "cell_type": "code",
   "execution_count": 14,
   "metadata": {},
   "outputs": [
    {
     "data": {
      "text/html": [
       "<div>\n",
       "<style scoped>\n",
       "    .dataframe tbody tr th:only-of-type {\n",
       "        vertical-align: middle;\n",
       "    }\n",
       "\n",
       "    .dataframe tbody tr th {\n",
       "        vertical-align: top;\n",
       "    }\n",
       "\n",
       "    .dataframe thead th {\n",
       "        text-align: right;\n",
       "    }\n",
       "</style>\n",
       "<table border=\"1\" class=\"dataframe\">\n",
       "  <thead>\n",
       "    <tr style=\"text-align: right;\">\n",
       "      <th></th>\n",
       "      <th>Forma de Envio</th>\n",
       "      <th>Código do Alerta</th>\n",
       "      <th>Mensagem</th>\n",
       "      <th>Tipo de Alerta</th>\n",
       "      <th>Município</th>\n",
       "      <th>Código IBGE</th>\n",
       "      <th>UF</th>\n",
       "      <th>Hora do alerta</th>\n",
       "      <th>Data</th>\n",
       "    </tr>\n",
       "  </thead>\n",
       "  <tbody>\n",
       "    <tr>\n",
       "      <th>734509</th>\n",
       "      <td>SMS</td>\n",
       "      <td>12175/2019</td>\n",
       "      <td>Defesa Civil: Mudanca para estagio de ATENCAO ...</td>\n",
       "      <td>CHUVAS INTENSAS</td>\n",
       "      <td>Nova Iguaçu (RJ)</td>\n",
       "      <td>3303500</td>\n",
       "      <td>RJ</td>\n",
       "      <td>21:00:11</td>\n",
       "      <td>2019-04-28</td>\n",
       "    </tr>\n",
       "    <tr>\n",
       "      <th>734510</th>\n",
       "      <td>SMS</td>\n",
       "      <td>12166/2019</td>\n",
       "      <td>Defesa Civil: Previsao de chuva moderada a for...</td>\n",
       "      <td>CHUVAS INTENSAS</td>\n",
       "      <td>Nova Iguaçu (RJ)</td>\n",
       "      <td>3303500</td>\n",
       "      <td>RJ</td>\n",
       "      <td>19:46:47</td>\n",
       "      <td>2019-04-28</td>\n",
       "    </tr>\n",
       "    <tr>\n",
       "      <th>734511</th>\n",
       "      <td>SMS</td>\n",
       "      <td>13802/2019</td>\n",
       "      <td>Defesa Civil: Previsao de rajadas de vento mod...</td>\n",
       "      <td>VENDAVAL</td>\n",
       "      <td>Nova Iguaçu (RJ)</td>\n",
       "      <td>3303500</td>\n",
       "      <td>RJ</td>\n",
       "      <td>23:27:02</td>\n",
       "      <td>2019-08-31</td>\n",
       "    </tr>\n",
       "    <tr>\n",
       "      <th>734512</th>\n",
       "      <td>SMS</td>\n",
       "      <td>9354/2020</td>\n",
       "      <td>Defesa Civil:Ha previsao de pancadas de chuva ...</td>\n",
       "      <td>CHUVAS INTENSAS</td>\n",
       "      <td>Nova Iguaçu (RJ)</td>\n",
       "      <td>3303500</td>\n",
       "      <td>RJ</td>\n",
       "      <td>08:46:22</td>\n",
       "      <td>2020-06-14</td>\n",
       "    </tr>\n",
       "    <tr>\n",
       "      <th>734514</th>\n",
       "      <td>SMS</td>\n",
       "      <td>6454/2021</td>\n",
       "      <td>Defesa Civil:Mudanca para ESTAGIO DE ATENCAO N...</td>\n",
       "      <td>CHUVAS INTENSAS</td>\n",
       "      <td>Nova Iguaçu (RJ)</td>\n",
       "      <td>3303500</td>\n",
       "      <td>RJ</td>\n",
       "      <td>17:11:46</td>\n",
       "      <td>2021-03-05</td>\n",
       "    </tr>\n",
       "  </tbody>\n",
       "</table>\n",
       "</div>"
      ],
      "text/plain": [
       "       Forma de Envio Código do Alerta  \\\n",
       "734509            SMS       12175/2019   \n",
       "734510            SMS       12166/2019   \n",
       "734511            SMS       13802/2019   \n",
       "734512            SMS        9354/2020   \n",
       "734514            SMS        6454/2021   \n",
       "\n",
       "                                                 Mensagem   Tipo de Alerta  \\\n",
       "734509  Defesa Civil: Mudanca para estagio de ATENCAO ...  CHUVAS INTENSAS   \n",
       "734510  Defesa Civil: Previsao de chuva moderada a for...  CHUVAS INTENSAS   \n",
       "734511  Defesa Civil: Previsao de rajadas de vento mod...         VENDAVAL   \n",
       "734512  Defesa Civil:Ha previsao de pancadas de chuva ...  CHUVAS INTENSAS   \n",
       "734514  Defesa Civil:Mudanca para ESTAGIO DE ATENCAO N...  CHUVAS INTENSAS   \n",
       "\n",
       "               Município  Código IBGE  UF Hora do alerta       Data  \n",
       "734509  Nova Iguaçu (RJ)      3303500  RJ       21:00:11 2019-04-28  \n",
       "734510  Nova Iguaçu (RJ)      3303500  RJ       19:46:47 2019-04-28  \n",
       "734511  Nova Iguaçu (RJ)      3303500  RJ       23:27:02 2019-08-31  \n",
       "734512  Nova Iguaçu (RJ)      3303500  RJ       08:46:22 2020-06-14  \n",
       "734514  Nova Iguaçu (RJ)      3303500  RJ       17:11:46 2021-03-05  "
      ]
     },
     "execution_count": 14,
     "metadata": {},
     "output_type": "execute_result"
    }
   ],
   "source": [
    "dados_NI.head()"
   ]
  },
  {
   "cell_type": "code",
   "execution_count": 15,
   "metadata": {},
   "outputs": [
    {
     "data": {
      "text/plain": [
       "<AxesSubplot:xlabel='Data'>"
      ]
     },
     "execution_count": 15,
     "metadata": {},
     "output_type": "execute_result"
    },
    {
     "data": {
      "image/png": "[encoded data removed]",
      "text/plain": [
       "<Figure size 432x288 with 1 Axes>"
      ]
     },
     "metadata": {
      "needs_background": "light"
     },
     "output_type": "display_data"
    }
   ],
   "source": [
    "dados_NI.groupby(dados_NI['Data'].dt.year).sum().plot.bar()"
   ]
  },
  {
   "cell_type": "code",
   "execution_count": 16,
   "metadata": {},
   "outputs": [
    {
     "data": {
      "text/plain": [
       "CHUVAS INTENSAS                                                                            83.623188\n",
       "VENDAVAL                                                                                    5.507246\n",
       "ALAGAMENTOS                                                                                 4.057971\n",
       "DOENÇAS INFECCIOSAS VIRAIS                                                                  2.463768\n",
       "BAIXA UMIDADE DO AR                                                                         2.318841\n",
       "INUNDAÇÕES                                                                                  0.869565\n",
       "DESLIZAMENTOS                                                                               0.579710\n",
       "ONDA DE FRIO - FRIAGEM                                                                      0.144928\n",
       "FRENTES FRIAS/ZONAS DE CONVERGÊNCIA                                                         0.144928\n",
       "INCÊNDIO FLORESTAL - INCÊNDIOS EM ÁREAS NÃO PROTEGIDAS, COM REFLEXOS NA QUALIDADE DO AR     0.144928\n",
       "ENXURRADAS                                                                                  0.144928\n",
       "Name: Tipo de Alerta, dtype: float64"
      ]
     },
     "execution_count": 16,
     "metadata": {},
     "output_type": "execute_result"
    }
   ],
   "source": [
    "dados_NI['Tipo de Alerta'].value_counts(normalize=True)*100"
   ]
  },
  {
   "cell_type": "code",
   "execution_count": 23,
   "metadata": {},
   "outputs": [
    {
     "data": {
      "text/html": [
       "<div>\n",
       "<style scoped>\n",
       "    .dataframe tbody tr th:only-of-type {\n",
       "        vertical-align: middle;\n",
       "    }\n",
       "\n",
       "    .dataframe tbody tr th {\n",
       "        vertical-align: top;\n",
       "    }\n",
       "\n",
       "    .dataframe thead th {\n",
       "        text-align: right;\n",
       "    }\n",
       "</style>\n",
       "<table border=\"1\" class=\"dataframe\">\n",
       "  <thead>\n",
       "    <tr style=\"text-align: right;\">\n",
       "      <th></th>\n",
       "      <th>Forma de Envio</th>\n",
       "      <th>Código do Alerta</th>\n",
       "      <th>Mensagem</th>\n",
       "      <th>Tipo de Alerta</th>\n",
       "      <th>Município</th>\n",
       "      <th>Código IBGE</th>\n",
       "      <th>UF</th>\n",
       "      <th>Hora do alerta</th>\n",
       "      <th>Data</th>\n",
       "    </tr>\n",
       "  </thead>\n",
       "  <tbody>\n",
       "    <tr>\n",
       "      <th>734509</th>\n",
       "      <td>SMS</td>\n",
       "      <td>12175/2019</td>\n",
       "      <td>Defesa Civil: Mudanca para estagio de ATENCAO ...</td>\n",
       "      <td>CHUVAS INTENSAS</td>\n",
       "      <td>Nova Iguaçu (RJ)</td>\n",
       "      <td>3303500</td>\n",
       "      <td>RJ</td>\n",
       "      <td>21:00:11</td>\n",
       "      <td>2019-04-28</td>\n",
       "    </tr>\n",
       "    <tr>\n",
       "      <th>734510</th>\n",
       "      <td>SMS</td>\n",
       "      <td>12166/2019</td>\n",
       "      <td>Defesa Civil: Previsao de chuva moderada a for...</td>\n",
       "      <td>CHUVAS INTENSAS</td>\n",
       "      <td>Nova Iguaçu (RJ)</td>\n",
       "      <td>3303500</td>\n",
       "      <td>RJ</td>\n",
       "      <td>19:46:47</td>\n",
       "      <td>2019-04-28</td>\n",
       "    </tr>\n",
       "    <tr>\n",
       "      <th>734512</th>\n",
       "      <td>SMS</td>\n",
       "      <td>9354/2020</td>\n",
       "      <td>Defesa Civil:Ha previsao de pancadas de chuva ...</td>\n",
       "      <td>CHUVAS INTENSAS</td>\n",
       "      <td>Nova Iguaçu (RJ)</td>\n",
       "      <td>3303500</td>\n",
       "      <td>RJ</td>\n",
       "      <td>08:46:22</td>\n",
       "      <td>2020-06-14</td>\n",
       "    </tr>\n",
       "    <tr>\n",
       "      <th>734514</th>\n",
       "      <td>SMS</td>\n",
       "      <td>6454/2021</td>\n",
       "      <td>Defesa Civil:Mudanca para ESTAGIO DE ATENCAO N...</td>\n",
       "      <td>CHUVAS INTENSAS</td>\n",
       "      <td>Nova Iguaçu (RJ)</td>\n",
       "      <td>3303500</td>\n",
       "      <td>RJ</td>\n",
       "      <td>17:11:46</td>\n",
       "      <td>2021-03-05</td>\n",
       "    </tr>\n",
       "    <tr>\n",
       "      <th>734516</th>\n",
       "      <td>SMS</td>\n",
       "      <td>1063/2019</td>\n",
       "      <td>Defesa Civil:Previsao de pancadas de chuva iso...</td>\n",
       "      <td>CHUVAS INTENSAS</td>\n",
       "      <td>Nova Iguaçu (RJ)</td>\n",
       "      <td>3303500</td>\n",
       "      <td>RJ</td>\n",
       "      <td>12:56:25</td>\n",
       "      <td>2019-10-30</td>\n",
       "    </tr>\n",
       "  </tbody>\n",
       "</table>\n",
       "</div>"
      ],
      "text/plain": [
       "       Forma de Envio Código do Alerta  \\\n",
       "734509            SMS       12175/2019   \n",
       "734510            SMS       12166/2019   \n",
       "734512            SMS        9354/2020   \n",
       "734514            SMS        6454/2021   \n",
       "734516            SMS        1063/2019   \n",
       "\n",
       "                                                 Mensagem   Tipo de Alerta  \\\n",
       "734509  Defesa Civil: Mudanca para estagio de ATENCAO ...  CHUVAS INTENSAS   \n",
       "734510  Defesa Civil: Previsao de chuva moderada a for...  CHUVAS INTENSAS   \n",
       "734512  Defesa Civil:Ha previsao de pancadas de chuva ...  CHUVAS INTENSAS   \n",
       "734514  Defesa Civil:Mudanca para ESTAGIO DE ATENCAO N...  CHUVAS INTENSAS   \n",
       "734516  Defesa Civil:Previsao de pancadas de chuva iso...  CHUVAS INTENSAS   \n",
       "\n",
       "               Município  Código IBGE  UF Hora do alerta       Data  \n",
       "734509  Nova Iguaçu (RJ)      3303500  RJ       21:00:11 2019-04-28  \n",
       "734510  Nova Iguaçu (RJ)      3303500  RJ       19:46:47 2019-04-28  \n",
       "734512  Nova Iguaçu (RJ)      3303500  RJ       08:46:22 2020-06-14  \n",
       "734514  Nova Iguaçu (RJ)      3303500  RJ       17:11:46 2021-03-05  \n",
       "734516  Nova Iguaçu (RJ)      3303500  RJ       12:56:25 2019-10-30  "
      ]
     },
     "execution_count": 23,
     "metadata": {},
     "output_type": "execute_result"
    }
   ],
   "source": [
    "dados_NI_chuva_intensa = dados_NI.loc[(dados_NI[\"Tipo de Alerta\"] == \"CHUVAS INTENSAS\")]\n",
    "dados_NI_chuva_intensa.head()"
   ]
  },
  {
   "cell_type": "markdown",
   "metadata": {},
   "source": [
    "### Analise dos alertas no ano de 2022 "
   ]
  },
  {
   "cell_type": "code",
   "execution_count": 26,
   "metadata": {},
   "outputs": [],
   "source": [
    "dados_NI_2022 = dados_limpos.loc[(dados_limpos['UF'] == 'RJ') & (dados_limpos[\"Código IBGE\"] == 3303500)&(dados_limpos[\"Data\"] > '2022-01-01')].reset_index(drop=True)"
   ]
  },
  {
   "cell_type": "code",
   "execution_count": 27,
   "metadata": {},
   "outputs": [
    {
     "data": {
      "text/html": [
       "<div>\n",
       "<style scoped>\n",
       "    .dataframe tbody tr th:only-of-type {\n",
       "        vertical-align: middle;\n",
       "    }\n",
       "\n",
       "    .dataframe tbody tr th {\n",
       "        vertical-align: top;\n",
       "    }\n",
       "\n",
       "    .dataframe thead th {\n",
       "        text-align: right;\n",
       "    }\n",
       "</style>\n",
       "<table border=\"1\" class=\"dataframe\">\n",
       "  <thead>\n",
       "    <tr style=\"text-align: right;\">\n",
       "      <th></th>\n",
       "      <th>Forma de Envio</th>\n",
       "      <th>Código do Alerta</th>\n",
       "      <th>Mensagem</th>\n",
       "      <th>Tipo de Alerta</th>\n",
       "      <th>Município</th>\n",
       "      <th>Código IBGE</th>\n",
       "      <th>UF</th>\n",
       "      <th>Hora do alerta</th>\n",
       "      <th>Data</th>\n",
       "    </tr>\n",
       "  </thead>\n",
       "  <tbody>\n",
       "    <tr>\n",
       "      <th>0</th>\n",
       "      <td>SMS</td>\n",
       "      <td>6210/2022</td>\n",
       "      <td>Defesa Civil:ATENCAO! PERMANECE A PREVISAO DE ...</td>\n",
       "      <td>CHUVAS INTENSAS</td>\n",
       "      <td>Nova Iguaçu (RJ)</td>\n",
       "      <td>3303500</td>\n",
       "      <td>RJ</td>\n",
       "      <td>20:06:30</td>\n",
       "      <td>2022-03-31</td>\n",
       "    </tr>\n",
       "    <tr>\n",
       "      <th>1</th>\n",
       "      <td>SMS</td>\n",
       "      <td>6329/2022</td>\n",
       "      <td>Defesa Civil:Alerta Maximo em Nova Iguacu. Ha ...</td>\n",
       "      <td>CHUVAS INTENSAS</td>\n",
       "      <td>Nova Iguaçu (RJ)</td>\n",
       "      <td>3303500</td>\n",
       "      <td>RJ</td>\n",
       "      <td>12:26:41</td>\n",
       "      <td>2022-04-02</td>\n",
       "    </tr>\n",
       "    <tr>\n",
       "      <th>2</th>\n",
       "      <td>SMS</td>\n",
       "      <td>6365/2022</td>\n",
       "      <td>Defesa Civil:ESTAGIO DE CRISE em Nova Iguacu -...</td>\n",
       "      <td>CHUVAS INTENSAS</td>\n",
       "      <td>Nova Iguaçu (RJ)</td>\n",
       "      <td>3303500</td>\n",
       "      <td>RJ</td>\n",
       "      <td>11:51:33</td>\n",
       "      <td>2022-04-03</td>\n",
       "    </tr>\n",
       "    <tr>\n",
       "      <th>3</th>\n",
       "      <td>SMS</td>\n",
       "      <td>6144/2022</td>\n",
       "      <td>Defesa Civil:ESTAGIO DE OBSERVACAO em Nova Igu...</td>\n",
       "      <td>CHUVAS INTENSAS</td>\n",
       "      <td>Nova Iguaçu (RJ)</td>\n",
       "      <td>3303500</td>\n",
       "      <td>RJ</td>\n",
       "      <td>10:49:40</td>\n",
       "      <td>2022-03-31</td>\n",
       "    </tr>\n",
       "    <tr>\n",
       "      <th>4</th>\n",
       "      <td>SMS</td>\n",
       "      <td>6328/2022</td>\n",
       "      <td>Defesa Civil:A cidade de Nova Iguacu permanece...</td>\n",
       "      <td>CHUVAS INTENSAS</td>\n",
       "      <td>Nova Iguaçu (RJ)</td>\n",
       "      <td>3303500</td>\n",
       "      <td>RJ</td>\n",
       "      <td>12:12:25</td>\n",
       "      <td>2022-04-02</td>\n",
       "    </tr>\n",
       "  </tbody>\n",
       "</table>\n",
       "</div>"
      ],
      "text/plain": [
       "  Forma de Envio Código do Alerta  \\\n",
       "0            SMS        6210/2022   \n",
       "1            SMS        6329/2022   \n",
       "2            SMS        6365/2022   \n",
       "3            SMS        6144/2022   \n",
       "4            SMS        6328/2022   \n",
       "\n",
       "                                            Mensagem   Tipo de Alerta  \\\n",
       "0  Defesa Civil:ATENCAO! PERMANECE A PREVISAO DE ...  CHUVAS INTENSAS   \n",
       "1  Defesa Civil:Alerta Maximo em Nova Iguacu. Ha ...  CHUVAS INTENSAS   \n",
       "2  Defesa Civil:ESTAGIO DE CRISE em Nova Iguacu -...  CHUVAS INTENSAS   \n",
       "3  Defesa Civil:ESTAGIO DE OBSERVACAO em Nova Igu...  CHUVAS INTENSAS   \n",
       "4  Defesa Civil:A cidade de Nova Iguacu permanece...  CHUVAS INTENSAS   \n",
       "\n",
       "          Município  Código IBGE  UF Hora do alerta       Data  \n",
       "0  Nova Iguaçu (RJ)      3303500  RJ       20:06:30 2022-03-31  \n",
       "1  Nova Iguaçu (RJ)      3303500  RJ       12:26:41 2022-04-02  \n",
       "2  Nova Iguaçu (RJ)      3303500  RJ       11:51:33 2022-04-03  \n",
       "3  Nova Iguaçu (RJ)      3303500  RJ       10:49:40 2022-03-31  \n",
       "4  Nova Iguaçu (RJ)      3303500  RJ       12:12:25 2022-04-02  "
      ]
     },
     "execution_count": 27,
     "metadata": {},
     "output_type": "execute_result"
    }
   ],
   "source": [
    "dados_NI_2022.head()"
   ]
  },
  {
   "cell_type": "code",
   "execution_count": 28,
   "metadata": {},
   "outputs": [
    {
     "data": {
      "text/plain": [
       "CHUVAS INTENSAS        86.075949\n",
       "VENDAVAL                7.594937\n",
       "BAIXA UMIDADE DO AR     3.797468\n",
       "ALAGAMENTOS             2.531646\n",
       "Name: Tipo de Alerta, dtype: float64"
      ]
     },
     "execution_count": 28,
     "metadata": {},
     "output_type": "execute_result"
    }
   ],
   "source": [
    "analise_alertas = dados_NI_2022['Tipo de Alerta'].value_counts(normalize=True)*100\n",
    "analise_alertas"
   ]
  },
  {
   "cell_type": "code",
   "execution_count": 29,
   "metadata": {},
   "outputs": [
    {
     "data": {
      "text/plain": [
       "<AxesSubplot:title={'center':'Analise de Alertas em 2022'}>"
      ]
     },
     "execution_count": 29,
     "metadata": {},
     "output_type": "execute_result"
    },
    {
     "data": {
      "image/png": "[encoded data removed]",
      "text/plain": [
       "<Figure size 432x288 with 1 Axes>"
      ]
     },
     "metadata": {
      "needs_background": "light"
     },
     "output_type": "display_data"
    }
   ],
   "source": [
    "analise_alertas.plot(kind='barh', title='Analise de Alertas em 2022')"
   ]
  },
  {
   "cell_type": "code",
   "execution_count": 30,
   "metadata": {},
   "outputs": [],
   "source": [
    "dados_NI_2022_chuva_intensa = dados_NI_2022.loc[(dados_NI_2022[\"Tipo de Alerta\"] == \"CHUVAS INTENSAS\")]"
   ]
  },
  {
   "cell_type": "code",
   "execution_count": 31,
   "metadata": {},
   "outputs": [
    {
     "data": {
      "text/html": [
       "<div>\n",
       "<style scoped>\n",
       "    .dataframe tbody tr th:only-of-type {\n",
       "        vertical-align: middle;\n",
       "    }\n",
       "\n",
       "    .dataframe tbody tr th {\n",
       "        vertical-align: top;\n",
       "    }\n",
       "\n",
       "    .dataframe thead th {\n",
       "        text-align: right;\n",
       "    }\n",
       "</style>\n",
       "<table border=\"1\" class=\"dataframe\">\n",
       "  <thead>\n",
       "    <tr style=\"text-align: right;\">\n",
       "      <th></th>\n",
       "      <th>Forma de Envio</th>\n",
       "      <th>Código do Alerta</th>\n",
       "      <th>Mensagem</th>\n",
       "      <th>Tipo de Alerta</th>\n",
       "      <th>Município</th>\n",
       "      <th>Código IBGE</th>\n",
       "      <th>UF</th>\n",
       "      <th>Hora do alerta</th>\n",
       "      <th>Data</th>\n",
       "    </tr>\n",
       "  </thead>\n",
       "  <tbody>\n",
       "    <tr>\n",
       "      <th>0</th>\n",
       "      <td>SMS</td>\n",
       "      <td>6210/2022</td>\n",
       "      <td>Defesa Civil:ATENCAO! PERMANECE A PREVISAO DE ...</td>\n",
       "      <td>CHUVAS INTENSAS</td>\n",
       "      <td>Nova Iguaçu (RJ)</td>\n",
       "      <td>3303500</td>\n",
       "      <td>RJ</td>\n",
       "      <td>20:06:30</td>\n",
       "      <td>2022-03-31</td>\n",
       "    </tr>\n",
       "    <tr>\n",
       "      <th>1</th>\n",
       "      <td>SMS</td>\n",
       "      <td>6329/2022</td>\n",
       "      <td>Defesa Civil:Alerta Maximo em Nova Iguacu. Ha ...</td>\n",
       "      <td>CHUVAS INTENSAS</td>\n",
       "      <td>Nova Iguaçu (RJ)</td>\n",
       "      <td>3303500</td>\n",
       "      <td>RJ</td>\n",
       "      <td>12:26:41</td>\n",
       "      <td>2022-04-02</td>\n",
       "    </tr>\n",
       "    <tr>\n",
       "      <th>2</th>\n",
       "      <td>SMS</td>\n",
       "      <td>6365/2022</td>\n",
       "      <td>Defesa Civil:ESTAGIO DE CRISE em Nova Iguacu -...</td>\n",
       "      <td>CHUVAS INTENSAS</td>\n",
       "      <td>Nova Iguaçu (RJ)</td>\n",
       "      <td>3303500</td>\n",
       "      <td>RJ</td>\n",
       "      <td>11:51:33</td>\n",
       "      <td>2022-04-03</td>\n",
       "    </tr>\n",
       "    <tr>\n",
       "      <th>3</th>\n",
       "      <td>SMS</td>\n",
       "      <td>6144/2022</td>\n",
       "      <td>Defesa Civil:ESTAGIO DE OBSERVACAO em Nova Igu...</td>\n",
       "      <td>CHUVAS INTENSAS</td>\n",
       "      <td>Nova Iguaçu (RJ)</td>\n",
       "      <td>3303500</td>\n",
       "      <td>RJ</td>\n",
       "      <td>10:49:40</td>\n",
       "      <td>2022-03-31</td>\n",
       "    </tr>\n",
       "    <tr>\n",
       "      <th>4</th>\n",
       "      <td>SMS</td>\n",
       "      <td>6328/2022</td>\n",
       "      <td>Defesa Civil:A cidade de Nova Iguacu permanece...</td>\n",
       "      <td>CHUVAS INTENSAS</td>\n",
       "      <td>Nova Iguaçu (RJ)</td>\n",
       "      <td>3303500</td>\n",
       "      <td>RJ</td>\n",
       "      <td>12:12:25</td>\n",
       "      <td>2022-04-02</td>\n",
       "    </tr>\n",
       "    <tr>\n",
       "      <th>...</th>\n",
       "      <td>...</td>\n",
       "      <td>...</td>\n",
       "      <td>...</td>\n",
       "      <td>...</td>\n",
       "      <td>...</td>\n",
       "      <td>...</td>\n",
       "      <td>...</td>\n",
       "      <td>...</td>\n",
       "      <td>...</td>\n",
       "    </tr>\n",
       "    <tr>\n",
       "      <th>74</th>\n",
       "      <td>SMS</td>\n",
       "      <td>5061/2022</td>\n",
       "      <td>Defesa Civil:Previsao de pancadas isoladas de ...</td>\n",
       "      <td>CHUVAS INTENSAS</td>\n",
       "      <td>Nova Iguaçu (RJ)</td>\n",
       "      <td>3303500</td>\n",
       "      <td>RJ</td>\n",
       "      <td>19:41:15</td>\n",
       "      <td>2022-03-11</td>\n",
       "    </tr>\n",
       "    <tr>\n",
       "      <th>75</th>\n",
       "      <td>SMS</td>\n",
       "      <td>2926/2022</td>\n",
       "      <td>Defesa Civil:05/02 15:30h - Mudanca para ESTAG...</td>\n",
       "      <td>CHUVAS INTENSAS</td>\n",
       "      <td>Nova Iguaçu (RJ)</td>\n",
       "      <td>3303500</td>\n",
       "      <td>RJ</td>\n",
       "      <td>15:42:19</td>\n",
       "      <td>2022-02-05</td>\n",
       "    </tr>\n",
       "    <tr>\n",
       "      <th>76</th>\n",
       "      <td>SMS</td>\n",
       "      <td>7328/2022</td>\n",
       "      <td>Defesa Civil:Previsao de pancadas de chuva mod...</td>\n",
       "      <td>CHUVAS INTENSAS</td>\n",
       "      <td>Nova Iguaçu (RJ)</td>\n",
       "      <td>3303500</td>\n",
       "      <td>RJ</td>\n",
       "      <td>07:33:20</td>\n",
       "      <td>2022-05-16</td>\n",
       "    </tr>\n",
       "    <tr>\n",
       "      <th>77</th>\n",
       "      <td>SMS</td>\n",
       "      <td>3064/2022</td>\n",
       "      <td>Defesa Civil:07/02- Nova Iguacu permanece em e...</td>\n",
       "      <td>CHUVAS INTENSAS</td>\n",
       "      <td>Nova Iguaçu (RJ)</td>\n",
       "      <td>3303500</td>\n",
       "      <td>RJ</td>\n",
       "      <td>10:40:48</td>\n",
       "      <td>2022-02-07</td>\n",
       "    </tr>\n",
       "    <tr>\n",
       "      <th>78</th>\n",
       "      <td>SMS</td>\n",
       "      <td>6460/2022</td>\n",
       "      <td>Defesa Civil:Chuva fraca a ocasionalmente mode...</td>\n",
       "      <td>CHUVAS INTENSAS</td>\n",
       "      <td>Nova Iguaçu (RJ)</td>\n",
       "      <td>3303500</td>\n",
       "      <td>RJ</td>\n",
       "      <td>02:09:55</td>\n",
       "      <td>2022-04-06</td>\n",
       "    </tr>\n",
       "  </tbody>\n",
       "</table>\n",
       "<p>68 rows × 9 columns</p>\n",
       "</div>"
      ],
      "text/plain": [
       "   Forma de Envio Código do Alerta  \\\n",
       "0             SMS        6210/2022   \n",
       "1             SMS        6329/2022   \n",
       "2             SMS        6365/2022   \n",
       "3             SMS        6144/2022   \n",
       "4             SMS        6328/2022   \n",
       "..            ...              ...   \n",
       "74            SMS        5061/2022   \n",
       "75            SMS        2926/2022   \n",
       "76            SMS        7328/2022   \n",
       "77            SMS        3064/2022   \n",
       "78            SMS        6460/2022   \n",
       "\n",
       "                                             Mensagem   Tipo de Alerta  \\\n",
       "0   Defesa Civil:ATENCAO! PERMANECE A PREVISAO DE ...  CHUVAS INTENSAS   \n",
       "1   Defesa Civil:Alerta Maximo em Nova Iguacu. Ha ...  CHUVAS INTENSAS   \n",
       "2   Defesa Civil:ESTAGIO DE CRISE em Nova Iguacu -...  CHUVAS INTENSAS   \n",
       "3   Defesa Civil:ESTAGIO DE OBSERVACAO em Nova Igu...  CHUVAS INTENSAS   \n",
       "4   Defesa Civil:A cidade de Nova Iguacu permanece...  CHUVAS INTENSAS   \n",
       "..                                                ...              ...   \n",
       "74  Defesa Civil:Previsao de pancadas isoladas de ...  CHUVAS INTENSAS   \n",
       "75  Defesa Civil:05/02 15:30h - Mudanca para ESTAG...  CHUVAS INTENSAS   \n",
       "76  Defesa Civil:Previsao de pancadas de chuva mod...  CHUVAS INTENSAS   \n",
       "77  Defesa Civil:07/02- Nova Iguacu permanece em e...  CHUVAS INTENSAS   \n",
       "78  Defesa Civil:Chuva fraca a ocasionalmente mode...  CHUVAS INTENSAS   \n",
       "\n",
       "           Município  Código IBGE  UF Hora do alerta       Data  \n",
       "0   Nova Iguaçu (RJ)      3303500  RJ       20:06:30 2022-03-31  \n",
       "1   Nova Iguaçu (RJ)      3303500  RJ       12:26:41 2022-04-02  \n",
       "2   Nova Iguaçu (RJ)      3303500  RJ       11:51:33 2022-04-03  \n",
       "3   Nova Iguaçu (RJ)      3303500  RJ       10:49:40 2022-03-31  \n",
       "4   Nova Iguaçu (RJ)      3303500  RJ       12:12:25 2022-04-02  \n",
       "..               ...          ...  ..            ...        ...  \n",
       "74  Nova Iguaçu (RJ)      3303500  RJ       19:41:15 2022-03-11  \n",
       "75  Nova Iguaçu (RJ)      3303500  RJ       15:42:19 2022-02-05  \n",
       "76  Nova Iguaçu (RJ)      3303500  RJ       07:33:20 2022-05-16  \n",
       "77  Nova Iguaçu (RJ)      3303500  RJ       10:40:48 2022-02-07  \n",
       "78  Nova Iguaçu (RJ)      3303500  RJ       02:09:55 2022-04-06  \n",
       "\n",
       "[68 rows x 9 columns]"
      ]
     },
     "execution_count": 31,
     "metadata": {},
     "output_type": "execute_result"
    }
   ],
   "source": [
    "dados_NI_2022_chuva_intensa"
   ]
  },
  {
   "cell_type": "markdown",
   "metadata": {},
   "source": [
    "## Raspagem do dados"
   ]
  },
  {
   "cell_type": "code",
   "execution_count": null,
   "metadata": {},
   "outputs": [],
   "source": [
    "navegador_inmet = webdriver.Chrome(chrome_options= chrome_options)\n",
    "\n",
    "navegador_inmet.get('https://portal.inmet.gov.br/')\n",
    "navegador_inmet.find_element_by_xpath('//*[@id=\"dataset-resources\"]/ul/li[1]')\n",
    "navegador_inmet.find_element_by_xpath('//*[@id=\"content\"]/div[3]/section/div[1]/p/a')\n",
    "# WebDriverWait(navegador_inmet, 20).until(EC.element_to_be_clickable((By.XPATH, '//*[@id=\"dataset-resources\"]/ul/li[1]'))).click()\n",
    "# WebDriverWait(navegador_inmet, 20).until(EC.element_to_be_clickable((By.XPATH, '//*[@id=\"content\"]/div[3]/section/div[1]/p/a'))).click()"
   ]
  },
  {
   "cell_type": "code",
   "execution_count": 32,
   "metadata": {},
   "outputs": [],
   "source": [
    "pasta_INMT = \"C:\\\\Users\\\\wesle\\\\Documents\\\\\"\n",
    "dados_INMT = os.path.join(pasta_INMT, \"dados_precipitacao_2022.zip\")\n",
    "\n",
    "with ZipFile(dados_INMT) as z:\n",
    "    with z.open(f'dados_A603_D_2022-01-01_2022-07-31.csv') as f:\n",
    "        dados_precipitacao = pd.read_csv(f, sep=';', error_bad_lines= False)"
   ]
  },
  {
   "cell_type": "code",
   "execution_count": 33,
   "metadata": {},
   "outputs": [],
   "source": [
    "dados_precipitacao.head()\n",
    "dados_precipitacao = dados_precipitacao.rename(columns={'PRECIPITACAO TOTAL, DIARIO (AUT)(mm)': 'Precipitação Total diaria(mm)'})"
   ]
  },
  {
   "cell_type": "code",
   "execution_count": 36,
   "metadata": {},
   "outputs": [],
   "source": [
    "dados_precipitacao['Data'] = pd.to_datetime(dados_precipitacao['Data Medicao'], errors='coerce')\n",
    "del(dados_precipitacao['Data Medicao'])"
   ]
  },
  {
   "cell_type": "code",
   "execution_count": 37,
   "metadata": {},
   "outputs": [
    {
     "data": {
      "text/html": [
       "<div>\n",
       "<style scoped>\n",
       "    .dataframe tbody tr th:only-of-type {\n",
       "        vertical-align: middle;\n",
       "    }\n",
       "\n",
       "    .dataframe tbody tr th {\n",
       "        vertical-align: top;\n",
       "    }\n",
       "\n",
       "    .dataframe thead th {\n",
       "        text-align: right;\n",
       "    }\n",
       "</style>\n",
       "<table border=\"1\" class=\"dataframe\">\n",
       "  <thead>\n",
       "    <tr style=\"text-align: right;\">\n",
       "      <th></th>\n",
       "      <th>Precipitação Total diaria(mm)</th>\n",
       "      <th>Data</th>\n",
       "    </tr>\n",
       "  </thead>\n",
       "  <tbody>\n",
       "    <tr>\n",
       "      <th>0</th>\n",
       "      <td>1,2</td>\n",
       "      <td>2022-01-01</td>\n",
       "    </tr>\n",
       "    <tr>\n",
       "      <th>1</th>\n",
       "      <td>3</td>\n",
       "      <td>2022-02-01</td>\n",
       "    </tr>\n",
       "    <tr>\n",
       "      <th>2</th>\n",
       "      <td>4,4</td>\n",
       "      <td>2022-03-01</td>\n",
       "    </tr>\n",
       "    <tr>\n",
       "      <th>3</th>\n",
       "      <td>0,2</td>\n",
       "      <td>2022-04-01</td>\n",
       "    </tr>\n",
       "    <tr>\n",
       "      <th>4</th>\n",
       "      <td>0</td>\n",
       "      <td>2022-05-01</td>\n",
       "    </tr>\n",
       "    <tr>\n",
       "      <th>...</th>\n",
       "      <td>...</td>\n",
       "      <td>...</td>\n",
       "    </tr>\n",
       "    <tr>\n",
       "      <th>207</th>\n",
       "      <td>0</td>\n",
       "      <td>2022-07-27</td>\n",
       "    </tr>\n",
       "    <tr>\n",
       "      <th>208</th>\n",
       "      <td>0,2</td>\n",
       "      <td>2022-07-28</td>\n",
       "    </tr>\n",
       "    <tr>\n",
       "      <th>209</th>\n",
       "      <td>0</td>\n",
       "      <td>2022-07-29</td>\n",
       "    </tr>\n",
       "    <tr>\n",
       "      <th>210</th>\n",
       "      <td>14,2</td>\n",
       "      <td>2022-07-30</td>\n",
       "    </tr>\n",
       "    <tr>\n",
       "      <th>211</th>\n",
       "      <td>0</td>\n",
       "      <td>2022-07-31</td>\n",
       "    </tr>\n",
       "  </tbody>\n",
       "</table>\n",
       "<p>212 rows × 2 columns</p>\n",
       "</div>"
      ],
      "text/plain": [
       "    Precipitação Total diaria(mm)       Data\n",
       "0                             1,2 2022-01-01\n",
       "1                               3 2022-02-01\n",
       "2                             4,4 2022-03-01\n",
       "3                             0,2 2022-04-01\n",
       "4                               0 2022-05-01\n",
       "..                            ...        ...\n",
       "207                             0 2022-07-27\n",
       "208                           0,2 2022-07-28\n",
       "209                             0 2022-07-29\n",
       "210                          14,2 2022-07-30\n",
       "211                             0 2022-07-31\n",
       "\n",
       "[212 rows x 2 columns]"
      ]
     },
     "execution_count": 37,
     "metadata": {},
     "output_type": "execute_result"
    }
   ],
   "source": [
    "dados_precipitacao"
   ]
  },
  {
   "cell_type": "code",
   "execution_count": 44,
   "metadata": {},
   "outputs": [],
   "source": [
    "Dias_mais_chuvosos_NI_2022 = pd.merge(dados_NI_2022_chuva_intensa,dados_precipitacao ,how = 'inner', on = 'Data')"
   ]
  },
  {
   "cell_type": "code",
   "execution_count": 55,
   "metadata": {},
   "outputs": [
    {
     "data": {
      "text/html": [
       "<div>\n",
       "<style scoped>\n",
       "    .dataframe tbody tr th:only-of-type {\n",
       "        vertical-align: middle;\n",
       "    }\n",
       "\n",
       "    .dataframe tbody tr th {\n",
       "        vertical-align: top;\n",
       "    }\n",
       "\n",
       "    .dataframe thead th {\n",
       "        text-align: right;\n",
       "    }\n",
       "</style>\n",
       "<table border=\"1\" class=\"dataframe\">\n",
       "  <thead>\n",
       "    <tr style=\"text-align: right;\">\n",
       "      <th></th>\n",
       "      <th>Forma de Envio</th>\n",
       "      <th>Código do Alerta</th>\n",
       "      <th>Mensagem</th>\n",
       "      <th>Tipo de Alerta</th>\n",
       "      <th>Município</th>\n",
       "      <th>Código IBGE</th>\n",
       "      <th>UF</th>\n",
       "      <th>Hora do alerta</th>\n",
       "      <th>Data</th>\n",
       "      <th>Precipitação Total diaria(mm)</th>\n",
       "    </tr>\n",
       "  </thead>\n",
       "  <tbody>\n",
       "    <tr>\n",
       "      <th>0</th>\n",
       "      <td>SMS</td>\n",
       "      <td>6210/2022</td>\n",
       "      <td>Defesa Civil:ATENCAO! PERMANECE A PREVISAO DE ...</td>\n",
       "      <td>CHUVAS INTENSAS</td>\n",
       "      <td>Nova Iguaçu (RJ)</td>\n",
       "      <td>3303500</td>\n",
       "      <td>RJ</td>\n",
       "      <td>20:06:30</td>\n",
       "      <td>2022-03-31</td>\n",
       "      <td>9,2</td>\n",
       "    </tr>\n",
       "    <tr>\n",
       "      <th>1</th>\n",
       "      <td>SMS</td>\n",
       "      <td>6144/2022</td>\n",
       "      <td>Defesa Civil:ESTAGIO DE OBSERVACAO em Nova Igu...</td>\n",
       "      <td>CHUVAS INTENSAS</td>\n",
       "      <td>Nova Iguaçu (RJ)</td>\n",
       "      <td>3303500</td>\n",
       "      <td>RJ</td>\n",
       "      <td>10:49:40</td>\n",
       "      <td>2022-03-31</td>\n",
       "      <td>9,2</td>\n",
       "    </tr>\n",
       "    <tr>\n",
       "      <th>2</th>\n",
       "      <td>SMS</td>\n",
       "      <td>6130/2022</td>\n",
       "      <td>Defesa Civil:ESTAGIO DE OBSERVACAO em Nova Igu...</td>\n",
       "      <td>CHUVAS INTENSAS</td>\n",
       "      <td>Nova Iguaçu (RJ)</td>\n",
       "      <td>3303500</td>\n",
       "      <td>RJ</td>\n",
       "      <td>03:04:01</td>\n",
       "      <td>2022-03-31</td>\n",
       "      <td>9,2</td>\n",
       "    </tr>\n",
       "    <tr>\n",
       "      <th>3</th>\n",
       "      <td>SMS</td>\n",
       "      <td>6224/2022</td>\n",
       "      <td>Defesa Civil:Mudanca para ESTAGIO DE ATENCAO e...</td>\n",
       "      <td>CHUVAS INTENSAS</td>\n",
       "      <td>Nova Iguaçu (RJ)</td>\n",
       "      <td>3303500</td>\n",
       "      <td>RJ</td>\n",
       "      <td>22:34:14</td>\n",
       "      <td>2022-03-31</td>\n",
       "      <td>9,2</td>\n",
       "    </tr>\n",
       "    <tr>\n",
       "      <th>4</th>\n",
       "      <td>TVA</td>\n",
       "      <td>6211/2022</td>\n",
       "      <td>Defesa Civil:Chuvas intensas nas proximas hora...</td>\n",
       "      <td>CHUVAS INTENSAS</td>\n",
       "      <td>Nova Iguaçu (RJ)</td>\n",
       "      <td>3303500</td>\n",
       "      <td>RJ</td>\n",
       "      <td>20:06:32</td>\n",
       "      <td>2022-03-31</td>\n",
       "      <td>9,2</td>\n",
       "    </tr>\n",
       "  </tbody>\n",
       "</table>\n",
       "</div>"
      ],
      "text/plain": [
       "  Forma de Envio Código do Alerta  \\\n",
       "0            SMS        6210/2022   \n",
       "1            SMS        6144/2022   \n",
       "2            SMS        6130/2022   \n",
       "3            SMS        6224/2022   \n",
       "4            TVA        6211/2022   \n",
       "\n",
       "                                            Mensagem   Tipo de Alerta  \\\n",
       "0  Defesa Civil:ATENCAO! PERMANECE A PREVISAO DE ...  CHUVAS INTENSAS   \n",
       "1  Defesa Civil:ESTAGIO DE OBSERVACAO em Nova Igu...  CHUVAS INTENSAS   \n",
       "2  Defesa Civil:ESTAGIO DE OBSERVACAO em Nova Igu...  CHUVAS INTENSAS   \n",
       "3  Defesa Civil:Mudanca para ESTAGIO DE ATENCAO e...  CHUVAS INTENSAS   \n",
       "4  Defesa Civil:Chuvas intensas nas proximas hora...  CHUVAS INTENSAS   \n",
       "\n",
       "          Município  Código IBGE  UF Hora do alerta       Data  \\\n",
       "0  Nova Iguaçu (RJ)      3303500  RJ       20:06:30 2022-03-31   \n",
       "1  Nova Iguaçu (RJ)      3303500  RJ       10:49:40 2022-03-31   \n",
       "2  Nova Iguaçu (RJ)      3303500  RJ       03:04:01 2022-03-31   \n",
       "3  Nova Iguaçu (RJ)      3303500  RJ       22:34:14 2022-03-31   \n",
       "4  Nova Iguaçu (RJ)      3303500  RJ       20:06:32 2022-03-31   \n",
       "\n",
       "  Precipitação Total diaria(mm)  \n",
       "0                           9,2  \n",
       "1                           9,2  \n",
       "2                           9,2  \n",
       "3                           9,2  \n",
       "4                           9,2  "
      ]
     },
     "execution_count": 55,
     "metadata": {},
     "output_type": "execute_result"
    }
   ],
   "source": [
    "Dias_mais_chuvosos_NI_2022.head()"
   ]
  },
  {
   "cell_type": "code",
   "execution_count": 58,
   "metadata": {},
   "outputs": [],
   "source": [
    "Dias_mais_chuvosos_NI_2022['mes']= Dias_mais_chuvosos_NI_2022['Data'].dt.month"
   ]
  },
  {
   "cell_type": "code",
   "execution_count": 65,
   "metadata": {},
   "outputs": [
    {
     "data": {
      "text/html": [
       "<div>\n",
       "<style scoped>\n",
       "    .dataframe tbody tr th:only-of-type {\n",
       "        vertical-align: middle;\n",
       "    }\n",
       "\n",
       "    .dataframe tbody tr th {\n",
       "        vertical-align: top;\n",
       "    }\n",
       "\n",
       "    .dataframe thead th {\n",
       "        text-align: right;\n",
       "    }\n",
       "</style>\n",
       "<table border=\"1\" class=\"dataframe\">\n",
       "  <thead>\n",
       "    <tr style=\"text-align: right;\">\n",
       "      <th></th>\n",
       "      <th>Forma de Envio</th>\n",
       "      <th>Código do Alerta</th>\n",
       "      <th>Mensagem</th>\n",
       "      <th>Tipo de Alerta</th>\n",
       "      <th>Município</th>\n",
       "      <th>Código IBGE</th>\n",
       "      <th>UF</th>\n",
       "      <th>Hora do alerta</th>\n",
       "      <th>Data</th>\n",
       "      <th>Precipitação Total diaria(mm)</th>\n",
       "      <th>mes</th>\n",
       "    </tr>\n",
       "  </thead>\n",
       "  <tbody>\n",
       "    <tr>\n",
       "      <th>0</th>\n",
       "      <td>SMS</td>\n",
       "      <td>6210/2022</td>\n",
       "      <td>Defesa Civil:ATENCAO! PERMANECE A PREVISAO DE ...</td>\n",
       "      <td>CHUVAS INTENSAS</td>\n",
       "      <td>Nova Iguaçu (RJ)</td>\n",
       "      <td>3303500</td>\n",
       "      <td>RJ</td>\n",
       "      <td>20:06:30</td>\n",
       "      <td>2022-03-31</td>\n",
       "      <td>9,2</td>\n",
       "      <td>3</td>\n",
       "    </tr>\n",
       "    <tr>\n",
       "      <th>1</th>\n",
       "      <td>SMS</td>\n",
       "      <td>6144/2022</td>\n",
       "      <td>Defesa Civil:ESTAGIO DE OBSERVACAO em Nova Igu...</td>\n",
       "      <td>CHUVAS INTENSAS</td>\n",
       "      <td>Nova Iguaçu (RJ)</td>\n",
       "      <td>3303500</td>\n",
       "      <td>RJ</td>\n",
       "      <td>10:49:40</td>\n",
       "      <td>2022-03-31</td>\n",
       "      <td>9,2</td>\n",
       "      <td>3</td>\n",
       "    </tr>\n",
       "    <tr>\n",
       "      <th>2</th>\n",
       "      <td>SMS</td>\n",
       "      <td>6130/2022</td>\n",
       "      <td>Defesa Civil:ESTAGIO DE OBSERVACAO em Nova Igu...</td>\n",
       "      <td>CHUVAS INTENSAS</td>\n",
       "      <td>Nova Iguaçu (RJ)</td>\n",
       "      <td>3303500</td>\n",
       "      <td>RJ</td>\n",
       "      <td>03:04:01</td>\n",
       "      <td>2022-03-31</td>\n",
       "      <td>9,2</td>\n",
       "      <td>3</td>\n",
       "    </tr>\n",
       "    <tr>\n",
       "      <th>3</th>\n",
       "      <td>SMS</td>\n",
       "      <td>6224/2022</td>\n",
       "      <td>Defesa Civil:Mudanca para ESTAGIO DE ATENCAO e...</td>\n",
       "      <td>CHUVAS INTENSAS</td>\n",
       "      <td>Nova Iguaçu (RJ)</td>\n",
       "      <td>3303500</td>\n",
       "      <td>RJ</td>\n",
       "      <td>22:34:14</td>\n",
       "      <td>2022-03-31</td>\n",
       "      <td>9,2</td>\n",
       "      <td>3</td>\n",
       "    </tr>\n",
       "    <tr>\n",
       "      <th>4</th>\n",
       "      <td>TVA</td>\n",
       "      <td>6211/2022</td>\n",
       "      <td>Defesa Civil:Chuvas intensas nas proximas hora...</td>\n",
       "      <td>CHUVAS INTENSAS</td>\n",
       "      <td>Nova Iguaçu (RJ)</td>\n",
       "      <td>3303500</td>\n",
       "      <td>RJ</td>\n",
       "      <td>20:06:32</td>\n",
       "      <td>2022-03-31</td>\n",
       "      <td>9,2</td>\n",
       "      <td>3</td>\n",
       "    </tr>\n",
       "  </tbody>\n",
       "</table>\n",
       "</div>"
      ],
      "text/plain": [
       "  Forma de Envio Código do Alerta  \\\n",
       "0            SMS        6210/2022   \n",
       "1            SMS        6144/2022   \n",
       "2            SMS        6130/2022   \n",
       "3            SMS        6224/2022   \n",
       "4            TVA        6211/2022   \n",
       "\n",
       "                                            Mensagem   Tipo de Alerta  \\\n",
       "0  Defesa Civil:ATENCAO! PERMANECE A PREVISAO DE ...  CHUVAS INTENSAS   \n",
       "1  Defesa Civil:ESTAGIO DE OBSERVACAO em Nova Igu...  CHUVAS INTENSAS   \n",
       "2  Defesa Civil:ESTAGIO DE OBSERVACAO em Nova Igu...  CHUVAS INTENSAS   \n",
       "3  Defesa Civil:Mudanca para ESTAGIO DE ATENCAO e...  CHUVAS INTENSAS   \n",
       "4  Defesa Civil:Chuvas intensas nas proximas hora...  CHUVAS INTENSAS   \n",
       "\n",
       "          Município  Código IBGE  UF Hora do alerta       Data  \\\n",
       "0  Nova Iguaçu (RJ)      3303500  RJ       20:06:30 2022-03-31   \n",
       "1  Nova Iguaçu (RJ)      3303500  RJ       10:49:40 2022-03-31   \n",
       "2  Nova Iguaçu (RJ)      3303500  RJ       03:04:01 2022-03-31   \n",
       "3  Nova Iguaçu (RJ)      3303500  RJ       22:34:14 2022-03-31   \n",
       "4  Nova Iguaçu (RJ)      3303500  RJ       20:06:32 2022-03-31   \n",
       "\n",
       "  Precipitação Total diaria(mm)  mes  \n",
       "0                           9,2    3  \n",
       "1                           9,2    3  \n",
       "2                           9,2    3  \n",
       "3                           9,2    3  \n",
       "4                           9,2    3  "
      ]
     },
     "execution_count": 65,
     "metadata": {},
     "output_type": "execute_result"
    }
   ],
   "source": [
    "Dias_mais_chuvosos_NI_2022.head()"
   ]
  },
  {
   "cell_type": "code",
   "execution_count": 67,
   "metadata": {},
   "outputs": [],
   "source": [
    "por_mes = Dias_mais_chuvosos_NI_2022['mes'].value_counts(normalize=True)*100"
   ]
  },
  {
   "cell_type": "code",
   "execution_count": 68,
   "metadata": {},
   "outputs": [],
   "source": [
    "precipitacao_por_mes = Dias_mais_chuvosos_NI_2022['Precipitação Total diaria(mm)'].value_counts(normalize=True)*100"
   ]
  },
  {
   "cell_type": "code",
   "execution_count": 64,
   "metadata": {},
   "outputs": [
    {
     "data": {
      "text/plain": [
       "3    25.925926\n",
       "2    25.925926\n",
       "4    24.074074\n",
       "1    16.666667\n",
       "5     7.407407\n",
       "Name: mes, dtype: float64"
      ]
     },
     "execution_count": 64,
     "metadata": {},
     "output_type": "execute_result"
    }
   ],
   "source": [
    "por_mes"
   ]
  },
  {
   "cell_type": "code",
   "execution_count": 69,
   "metadata": {},
   "outputs": [
    {
     "data": {
      "text/plain": [
       "0       44.444444\n",
       "0,2     12.962963\n",
       "9,2     11.111111\n",
       "17,8     3.703704\n",
       "51,8     1.851852\n",
       "28,4     1.851852\n",
       "42       1.851852\n",
       "2,6      1.851852\n",
       "17,2     1.851852\n",
       "12,2     1.851852\n",
       "20,6     1.851852\n",
       "0,8      1.851852\n",
       "3        1.851852\n",
       "1        1.851852\n",
       "21,8     1.851852\n",
       "19       1.851852\n",
       "11,8     1.851852\n",
       "15,2     1.851852\n",
       "56       1.851852\n",
       "Name: Precipitação Total diaria(mm), dtype: float64"
      ]
     },
     "execution_count": 69,
     "metadata": {},
     "output_type": "execute_result"
    }
   ],
   "source": [
    "precipitacao_por_mes"
   ]
  },
  {
   "cell_type": "markdown",
   "metadata": {},
   "source": [
    "## Cruzamento com os dados do IBGE"
   ]
  },
  {
   "cell_type": "code",
   "execution_count": null,
   "metadata": {},
   "outputs": [],
   "source": []
  },
  {
   "cell_type": "code",
   "execution_count": null,
   "metadata": {},
   "outputs": [],
   "source": []
  },
  {
   "cell_type": "code",
   "execution_count": null,
   "metadata": {},
   "outputs": [],
   "source": []
  },
  {
   "cell_type": "code",
   "execution_count": null,
   "metadata": {},
   "outputs": [],
   "source": [
    "soup = BeautifulSoup(html1,html2, 'html.parser')"
   ]
  },
  {
   "cell_type": "code",
   "execution_count": null,
   "metadata": {},
   "outputs": [],
   "source": [
    "votos = []\n",
    "\n",
    "for deputado in soup.find_all(\"div\", attrs={\"class\": \"custom-representative\"}):\n",
    "  dados_deputado = []\n",
    "  dados_deputado.append(deputado['data-choice']) #voto\n",
    "  resultado_busca_nome = re.search(r'.*Federal (.*)\\((.*?)–(.*?)\\)',deputado.img['alt'])\n",
    "  dados_deputado.append(resultado_busca_nome.group(1)) #nome\n",
    "  dados_deputado.append(resultado_busca_nome.group(2)) #partido\n",
    "  dados_deputado.append(resultado_busca_nome.group(3)) #estado\n",
    "  dados_deputado.append(deputado.img['src']) #link"
   ]
  }
 ],
 "metadata": {
  "kernelspec": {
   "display_name": "Python 3",
   "language": "python",
   "name": "python3"
  },
  "language_info": {
   "codemirror_mode": {
    "name": "ipython",
    "version": 3
   },
   "file_extension": ".py",
   "mimetype": "text/x-python",
   "name": "python",
   "nbconvert_exporter": "python",
   "pygments_lexer": "ipython3",
   "version": "3.8.5"
  }
 },
 "nbformat": 4,
 "nbformat_minor": 4
}
